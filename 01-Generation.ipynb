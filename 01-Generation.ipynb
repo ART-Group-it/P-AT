{
 "cells": [
  {
   "cell_type": "markdown",
   "id": "d9b60db9",
   "metadata": {},
   "source": [
    "# Libraries"
   ]
  },
  {
   "cell_type": "code",
   "execution_count": null,
   "id": "5356a87d",
   "metadata": {},
   "outputs": [],
   "source": [
    "!nvidia-smi"
   ]
  },
  {
   "cell_type": "code",
   "execution_count": null,
   "id": "5d790dd3",
   "metadata": {},
   "outputs": [],
   "source": [
    "import utils as u"
   ]
  },
  {
   "cell_type": "markdown",
   "id": "8ac0bbca",
   "metadata": {},
   "source": [
    "# Load Model"
   ]
  },
  {
   "cell_type": "code",
   "execution_count": null,
   "id": "6a21ae87",
   "metadata": {},
   "outputs": [],
   "source": [
    "device, model = 'cuda:0', 'llama7b' #\n",
    "model_recovered, tokenizer_recovered = u.load_model(model, device)"
   ]
  },
  {
   "cell_type": "markdown",
   "id": "7e45e4e9",
   "metadata": {},
   "source": [
    "# Load dataset"
   ]
  },
  {
   "cell_type": "code",
   "execution_count": null,
   "id": "2fd0ae71",
   "metadata": {},
   "outputs": [],
   "source": [
    "dataset = u.read_file(\"Dataset/P-AT.json\")"
   ]
  },
  {
   "cell_type": "markdown",
   "id": "6536f548",
   "metadata": {},
   "source": [
    "# Generation"
   ]
  },
  {
   "cell_type": "code",
   "execution_count": null,
   "id": "d2269ff8",
   "metadata": {},
   "outputs": [],
   "source": [
    "for category in dataset: #['P-AT-disability']\n",
    "    print(category)\n",
    "    answer_in_a_word = (category == 'P-AT-gender') or (category == 'P-AT-disability') or (model == 'vicuna-7b')\n",
    "    for weat in dataset[category].keys(): #['weat9']\n",
    "        print(\"Processing \", weat, \" ...\", \"\\n\")\n",
    "        u.generate_prompt(model_recovered, tokenizer_recovered, dataset[category][weat], model, device, answer_in_a_word=answer_in_a_word)"
   ]
  },
  {
   "cell_type": "markdown",
   "id": "f25d3a67",
   "metadata": {},
   "source": [
    "# Save dataset-model"
   ]
  },
  {
   "cell_type": "code",
   "execution_count": null,
   "id": "f304d9b5",
   "metadata": {},
   "outputs": [],
   "source": [
    "import os"
   ]
  },
  {
   "cell_type": "code",
   "execution_count": null,
   "id": "2973c8a1",
   "metadata": {},
   "outputs": [],
   "source": [
    "if not os.path.exists(f\"Dataset/P-AT-{model}.json\"):\n",
    "    with open(f\"Dataset/P-AT-{model}.json\", 'w+') as f:\n",
    "        u.json.dump(dataset, f)\n",
    "else:\n",
    "    print(f\"Generation already present at this location for model {model}. This prevented the writing step!\")"
   ]
  },
  {
   "cell_type": "code",
   "execution_count": null,
   "id": "abe98a34",
   "metadata": {},
   "outputs": [],
   "source": []
  }
 ],
 "metadata": {
  "kernelspec": {
   "display_name": "Python 3 (ipykernel)",
   "language": "python",
   "name": "python3"
  },
  "language_info": {
   "codemirror_mode": {
    "name": "ipython",
    "version": 3
   },
   "file_extension": ".py",
   "mimetype": "text/x-python",
   "name": "python",
   "nbconvert_exporter": "python",
   "pygments_lexer": "ipython3",
   "version": "3.8.10"
  }
 },
 "nbformat": 4,
 "nbformat_minor": 5
}
