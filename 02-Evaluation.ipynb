{
 "cells": [
  {
   "cell_type": "markdown",
   "id": "71e58cdb",
   "metadata": {},
   "source": [
    "# Libraries"
   ]
  },
  {
   "cell_type": "code",
   "execution_count": null,
   "id": "ea57b64f",
   "metadata": {
    "pycharm": {
     "is_executing": true
    }
   },
   "outputs": [],
   "source": [
    "import utils as u\n",
    "import pandas as pd\n",
    "import os\n",
    "\n",
    "pd.set_option(\"display.max_rows\", None)\n",
    "pd.set_option(\"display.max_columns\", None)\n",
    "pd.set_option(\"display.max_colwidth\", None)"
   ]
  },
  {
   "cell_type": "markdown",
   "id": "5e784877",
   "metadata": {},
   "source": [
    "# Choose Model"
   ]
  },
  {
   "cell_type": "code",
   "execution_count": null,
   "id": "a912bfbf",
   "metadata": {},
   "outputs": [],
   "source": [
    "model = 'flan-t5-base' #'vicuna-7b' #'llama7b', #'flan-t5-base', 'flan-t5-large','flan-t5-xl', 'flan-t5-xxl'"
   ]
  },
  {
   "cell_type": "markdown",
   "id": "130dd424",
   "metadata": {},
   "source": [
    "# Dataset"
   ]
  },
  {
   "cell_type": "code",
   "execution_count": null,
   "id": "1dbfd57f",
   "metadata": {},
   "outputs": [],
   "source": [
    "dataset = u.read_file(f\"Dataset/P-AT-{model}.json\")"
   ]
  },
  {
   "cell_type": "code",
   "execution_count": null,
   "id": "6117ba69",
   "metadata": {},
   "outputs": [],
   "source": [
    "output_dir = f'P-AT-{model}'\n",
    "if not os.path.exists(output_dir):\n",
    "    os.mkdir(output_dir)"
   ]
  },
  {
   "cell_type": "markdown",
   "id": "5c298d2a",
   "metadata": {},
   "source": [
    "# Processing"
   ]
  },
  {
   "cell_type": "markdown",
   "id": "d2c9b13a",
   "metadata": {},
   "source": [
    "1) P-AT-gender"
   ]
  },
  {
   "cell_type": "code",
   "execution_count": null,
   "id": "6a5e099f",
   "metadata": {},
   "outputs": [],
   "source": [
    "gender_df = {}\n",
    "gender_df[model] = {}\n",
    "for weat in dataset['P-AT-gender']:\n",
    "    gender_df[model][weat] = u.pd.DataFrame(dataset['P-AT-gender'][weat])"
   ]
  },
  {
   "cell_type": "markdown",
   "id": "9ea6b0ec",
   "metadata": {},
   "source": [
    "2) P-AT-base"
   ]
  },
  {
   "cell_type": "code",
   "execution_count": null,
   "id": "74e08f1b",
   "metadata": {},
   "outputs": [],
   "source": [
    "base_df = {}\n",
    "base_df[model] = {}\n",
    "for weat in dataset['P-AT-base']:\n",
    "    base_df[model][weat] = u.pd.DataFrame(dataset['P-AT-base'][weat])"
   ]
  },
  {
   "cell_type": "markdown",
   "id": "547fb5c2",
   "metadata": {},
   "source": [
    "3) P-AT-race"
   ]
  },
  {
   "cell_type": "code",
   "execution_count": null,
   "id": "89a3b499",
   "metadata": {},
   "outputs": [],
   "source": [
    "race_df = {}\n",
    "race_df[model] = {}\n",
    "for weat in dataset['P-AT-race']:\n",
    "    race_df[model][weat] = u.pd.DataFrame(dataset['P-AT-race'][weat])"
   ]
  },
  {
   "cell_type": "markdown",
   "id": "f1e02889",
   "metadata": {},
   "source": [
    "4) P-AT-disability"
   ]
  },
  {
   "cell_type": "code",
   "execution_count": null,
   "id": "4073c853",
   "metadata": {},
   "outputs": [],
   "source": [
    "disability_df = {}\n",
    "disability_df[model] = {}\n",
    "for weat in dataset['P-AT-disability']:\n",
    "    disability_df[model][weat] = u.pd.DataFrame(dataset['P-AT-disability'][weat])"
   ]
  },
  {
   "cell_type": "markdown",
   "id": "0579d234",
   "metadata": {},
   "source": [
    "5) P-AT-age"
   ]
  },
  {
   "cell_type": "code",
   "execution_count": null,
   "id": "ba27e105",
   "metadata": {},
   "outputs": [],
   "source": [
    "age_df = {}\n",
    "age_df[model] = {}\n",
    "for weat in dataset['P-AT-age']:\n",
    "    age_df[model][weat] = u.pd.DataFrame(dataset['P-AT-age'][weat])"
   ]
  },
  {
   "cell_type": "markdown",
   "id": "55462541",
   "metadata": {},
   "source": [
    "# Evaluation"
   ]
  },
  {
   "cell_type": "code",
   "execution_count": null,
   "id": "b7a6acdc",
   "metadata": {},
   "outputs": [],
   "source": [
    "import numpy as np\n",
    "from scipy.stats import fisher_exact"
   ]
  },
  {
   "cell_type": "code",
   "execution_count": null,
   "id": "93cb77a8",
   "metadata": {},
   "outputs": [],
   "source": [
    "def compute_chisquare(count_given_test):\n",
    "    pvalues = []\n",
    "    for i in range(len(count_given_test)):\n",
    "        per_prompts_counts =  count_given_test[0].reset_index().set_index(['instruction','category'])[['attribute1-count', 'attribute2-count', 'total']].sum(level=[0,1])\n",
    "        \n",
    "        instructions = [instruction for instruction, category in per_prompts_counts.index]\n",
    "        for instruction in np.unique(instructions):\n",
    "            f_obs = per_prompts_counts.loc[instruction][['attribute1-count', 'attribute2-count']].values\n",
    "            statistic, pvalue = fisher_exact(f_obs)\n",
    "\n",
    "            pvalues.append(pvalue)\n",
    "            \n",
    "        \n",
    "        counts = count_given_test[i].reset_index().set_index(['category'])[['attribute1-count', 'attribute2-count', 'total']].sum(level=0)\n",
    "        f_obs = counts[['attribute1-count', 'attribute2-count']].values     \n",
    "        display(f_obs)\n",
    "        \n",
    "        statistic, pvalue = fisher_exact(f_obs)\n",
    "\n",
    "        pvalues.append(pvalue)\n",
    "    return np.array(pvalues)"
   ]
  },
  {
   "cell_type": "code",
   "execution_count": null,
   "id": "82ff8457",
   "metadata": {
    "scrolled": false
   },
   "outputs": [],
   "source": [
    "gender_tasks = ['weat7', 'weat8', 'weat6']\n",
    "\n",
    "gender_targets = [\n",
    "    u.targets['weat7_target'],\n",
    "    u.targets['weat8_target'],\n",
    "    u.targets['weat6_target'],\n",
    "]\n",
    "\n",
    "gender_all_attributes = [u.attributes['gender_weat7_attr'], \n",
    "                  u.attributes['gender_weat8_attr'], \n",
    "                  u.attributes['gender_weat6_attr']]\n",
    "\n",
    "\n",
    "u.Mode.set_mode(7)\n",
    "\n",
    "\n",
    "datasets_gender = u.create_datasets(gender_df, \n",
    "                                   [model],\n",
    "                                   tasks=gender_tasks,\n",
    "                                   all_targets= gender_targets,\n",
    "                                   all_attributes=gender_all_attributes, \n",
    "                                   instruction_column='base_instruction',\n",
    "                                   force_order=True)\n",
    "pd.set_option(\"display.max_rows\", None)\n",
    "pd.set_option(\"display.max_columns\", None)\n",
    "pd.set_option(\"display.max_colwidth\", None)\n",
    "scores_gender, count_given_test = u.Evaluator.compute(datasets_gender, [model])"
   ]
  },
  {
   "cell_type": "code",
   "execution_count": null,
   "id": "5c1abf4f",
   "metadata": {
    "scrolled": true
   },
   "outputs": [],
   "source": [
    "alpha5, alpha10 = 0.05,  0.10\n",
    "pvalues = compute_chisquare(count_given_test) #test against null hyp of indipendece of categorical variables\n",
    "\n",
    "print(\"**************************************\")\n",
    "print(\"pvalues < alpha5 \", pvalues < alpha5)\n",
    "print(\"pvalues < alpha10\", pvalues < alpha10)"
   ]
  },
  {
   "cell_type": "code",
   "execution_count": null,
   "id": "6076d034",
   "metadata": {},
   "outputs": [],
   "source": [
    "scores_gender[\"pvalue\"] = pvalues\n",
    "scores_gender[\"pvalue < alpha5 \"] = pvalues < alpha5\n",
    "scores_gender[\"pvalue < alpha10\"] = pvalues < alpha10\n",
    "\n",
    "scores_gender"
   ]
  },
  {
   "cell_type": "code",
   "execution_count": null,
   "id": "664e4751",
   "metadata": {},
   "outputs": [],
   "source": [
    "scores_gender.to_csv(f'{output_dir}/P-AT-gender_{model}.csv')"
   ]
  },
  {
   "cell_type": "markdown",
   "id": "c0862b2e",
   "metadata": {},
   "source": [
    "## Base"
   ]
  },
  {
   "cell_type": "markdown",
   "id": "7d5ba7ec",
   "metadata": {},
   "source": [
    "### Pleasant"
   ]
  },
  {
   "cell_type": "code",
   "execution_count": null,
   "id": "12f206ca",
   "metadata": {
    "scrolled": false
   },
   "outputs": [],
   "source": [
    "base_pleasant_tasks = ['weat1','weat2', 'weat3','weat3b', 'weat4', 'weat10']\n",
    "\n",
    "base_pleasant_targets = [u.targets['weat1_target'],\n",
    "                u.targets['weat2_target'], \n",
    "                u.targets['weat3_target'],\n",
    "                u.targets['weat3b_target'], \n",
    "                u.targets['weat4_target'], \n",
    "                u.targets['weat10_target'],\n",
    "                ]\n",
    "\n",
    "base_pleasant_all_attributes = [u.attributes['base_weat_pleasant_attr'],#, weat 1 \n",
    "                  u.attributes['base_weat_pleasant_attr'],    # weat 2\n",
    "                  u.attributes['base_weat_pleasant_attr'],    # weat 3\n",
    "                  u.attributes['base_weat_pleasant_attr'],    # weat 3b\n",
    "                  u.attributes['base_weat_pleasant_attr'],    # weat 4\n",
    "                  u.attributes['base_weat_pleasant_attr'],     # weat 10\n",
    "                 ]\n",
    "\n",
    "\n",
    "u.Mode.set_mode(1)\n",
    "\n",
    "\n",
    "datasets_base_pleasant = u.create_datasets(base_df, [model],\n",
    "                                   tasks=base_pleasant_tasks,\n",
    "                                   all_targets= base_pleasant_targets,\n",
    "                                   all_attributes=base_pleasant_all_attributes, \n",
    "                                   instruction_column='instruction',\n",
    "                                   force_order=True)\n",
    "\n",
    "pd.set_option(\"display.max_rows\", None)\n",
    "pd.set_option(\"display.max_columns\", None)\n",
    "pd.set_option(\"display.max_colwidth\", None)\n",
    "scores_base_pleasant, count_given_test  = u.Evaluator.compute(datasets_base_pleasant, [model])"
   ]
  },
  {
   "cell_type": "code",
   "execution_count": null,
   "id": "91c81024",
   "metadata": {},
   "outputs": [],
   "source": [
    "scores_base_pleasant"
   ]
  },
  {
   "cell_type": "code",
   "execution_count": null,
   "id": "b535c0b2",
   "metadata": {
    "scrolled": true
   },
   "outputs": [],
   "source": [
    "alpha5, alpha10 = 0.05,  0.10\n",
    "pvalues = compute_chisquare(count_given_test)\n",
    "scores_base_pleasant[\"pvalue\"] = pvalues\n",
    "\n",
    "scores_base_pleasant[\"pvalue < alpha5 \"] = pvalues < alpha5\n",
    "scores_base_pleasant[\"pvalue < alpha10\"] = pvalues < alpha10\n",
    "\n",
    "scores_base_pleasant"
   ]
  },
  {
   "cell_type": "code",
   "execution_count": null,
   "id": "a6f4bfd4",
   "metadata": {},
   "outputs": [],
   "source": [
    "scores_base_pleasant.to_csv(f'{output_dir}/P-AT-base_pleasant_{model}.csv')"
   ]
  },
  {
   "cell_type": "markdown",
   "id": "3c83956a",
   "metadata": {},
   "source": [
    "### Career"
   ]
  },
  {
   "cell_type": "code",
   "execution_count": null,
   "id": "562c4145",
   "metadata": {
    "scrolled": true
   },
   "outputs": [],
   "source": [
    "base_career_tasks = ['weat6']\n",
    "base_career_targets = [u.targets['weat6_target']]\n",
    "base_career_all_attributes = [u.attributes['base_weat_career']]# weat 6\n",
    "\n",
    "\n",
    "u.Mode.set_mode(6)\n",
    "\n",
    "\n",
    "datasets_base_career = u.create_datasets(base_df, [model],\n",
    "                                   tasks=base_career_tasks,\n",
    "                                   all_targets= base_career_targets,\n",
    "                                   all_attributes=base_career_all_attributes, \n",
    "                                   instruction_column='instruction',\n",
    "                                   force_order=True)\n",
    "\n",
    "pd.set_option(\"display.max_rows\", None)\n",
    "pd.set_option(\"display.max_columns\", None)\n",
    "pd.set_option(\"display.max_colwidth\", None)\n",
    "scores_base_career, count_given_test = u.Evaluator.compute(datasets_base_career, [model])"
   ]
  },
  {
   "cell_type": "code",
   "execution_count": null,
   "id": "634fa18a",
   "metadata": {},
   "outputs": [],
   "source": [
    "scores_base_career"
   ]
  },
  {
   "cell_type": "code",
   "execution_count": null,
   "id": "e27fd894",
   "metadata": {
    "scrolled": true
   },
   "outputs": [],
   "source": [
    "alpha5, alpha10 = 0.05,  0.10\n",
    "pvalues = compute_chisquare(count_given_test)\n",
    "\n",
    "scores_base_career[\"pvalue\"] = pvalues\n",
    "scores_base_career[\"pvalue < alpha5 \"] = pvalues < alpha5\n",
    "scores_base_career[\"pvalue < alpha10\"] = pvalues < alpha10\n",
    "\n",
    "scores_base_career"
   ]
  },
  {
   "cell_type": "code",
   "execution_count": null,
   "id": "89ef29d9",
   "metadata": {},
   "outputs": [],
   "source": [
    "scores_base_career.to_csv(f'{output_dir}/P-AT-base_career_{model}.csv')"
   ]
  },
  {
   "cell_type": "markdown",
   "id": "9fb07bec",
   "metadata": {},
   "source": [
    "### Family"
   ]
  },
  {
   "cell_type": "code",
   "execution_count": null,
   "id": "2afc0a13",
   "metadata": {},
   "outputs": [],
   "source": [
    "base_gender_tasks = ['weat7','weat8']\n",
    "base_gender_targets = [u.targets['weat7_target'], u.targets['weat8_target']]\n",
    "base_gender_all_attributes = [u.attributes['base_weat_gender'], u.attributes['base_weat_gender']]# weat 6\n",
    "\n",
    "\n",
    "u.Mode.set_mode(7)\n",
    "\n",
    "datasets_base_gender = u.create_datasets(base_df, [model],\n",
    "                                   tasks=base_gender_tasks,\n",
    "                                   all_targets= base_gender_targets,\n",
    "                                   all_attributes=base_gender_all_attributes, \n",
    "                                   instruction_column='instruction',\n",
    "                                   force_order=True)\n",
    "\n",
    "scores_base_gender, count_given_test = u.Evaluator.compute(datasets_base_gender, [model])"
   ]
  },
  {
   "cell_type": "code",
   "execution_count": null,
   "id": "8077132f",
   "metadata": {
    "scrolled": true
   },
   "outputs": [],
   "source": [
    "alpha5, alpha10 = 0.05,  0.10\n",
    "pvalues = compute_chisquare(count_given_test)\n",
    "scores_base_gender[\"pvalue\"] = pvalues\n",
    "\n",
    "scores_base_gender[\"pvalue < alpha5 \"] = pvalues < alpha5\n",
    "scores_base_gender[\"pvalue < alpha10\"] = pvalues < alpha10\n",
    "\n",
    "scores_base_gender"
   ]
  },
  {
   "cell_type": "code",
   "execution_count": null,
   "id": "d6bb017b",
   "metadata": {},
   "outputs": [],
   "source": [
    "scores_base_gender.to_csv(f'{output_dir}/P-AT-base_gender_{model}.csv')"
   ]
  },
  {
   "cell_type": "markdown",
   "id": "614a94b1",
   "metadata": {},
   "source": [
    "### Disease"
   ]
  },
  {
   "cell_type": "code",
   "execution_count": null,
   "id": "0db5d20d",
   "metadata": {
    "scrolled": true
   },
   "outputs": [],
   "source": [
    "base_disease_tasks = ['weat9']\n",
    "base_disease_targets = [u.targets['weat9_target']]\n",
    "base_disease_all_attributes = [u.attributes['base_weat_disease']]# weat 6\n",
    "\n",
    "\n",
    "u.Mode.set_mode(9)\n",
    "\n",
    "\n",
    "datasets_base_disease = u.create_datasets(base_df, [model],\n",
    "                                   tasks=base_disease_tasks,\n",
    "                                   all_targets=base_disease_targets,\n",
    "                                   all_attributes=base_disease_all_attributes, \n",
    "                                   instruction_column='instruction',\n",
    "                                   force_order=True)\n",
    "\n",
    "pd.set_option(\"display.max_rows\", None)\n",
    "pd.set_option(\"display.max_columns\", None)\n",
    "pd.set_option(\"display.max_colwidth\", None)\n",
    "scores_base_disease, count_given_test = u.Evaluator.compute(datasets_base_disease, [model])"
   ]
  },
  {
   "cell_type": "code",
   "execution_count": null,
   "id": "abaeac42",
   "metadata": {},
   "outputs": [],
   "source": [
    "alpha5, alpha10 = 0.05,  0.10\n",
    "pvalues = compute_chisquare(count_given_test) #contro hyp di indipendenza\n",
    "scores_base_disease[\"pvalue\"] = pvalues\n",
    "\n",
    "scores_base_disease[\"pvalue < alpha5 \"] = pvalues < alpha5\n",
    "scores_base_disease[\"pvalue < alpha10\"] = pvalues < alpha10\n",
    "\n",
    "scores_base_disease"
   ]
  },
  {
   "cell_type": "code",
   "execution_count": null,
   "id": "66aa5808",
   "metadata": {},
   "outputs": [],
   "source": [
    "scores_base_disease.to_csv(f'{output_dir}/P-AT-base_disease_{model}.csv')"
   ]
  },
  {
   "cell_type": "markdown",
   "id": "0d16c7c6",
   "metadata": {},
   "source": [
    "## Gender"
   ]
  },
  {
   "cell_type": "markdown",
   "id": "1e34fc61",
   "metadata": {},
   "source": [
    "## Race"
   ]
  },
  {
   "cell_type": "code",
   "execution_count": null,
   "id": "5a312107",
   "metadata": {
    "scrolled": true
   },
   "outputs": [],
   "source": [
    "race_tasks = ['weat3', 'weat4']\n",
    "\n",
    "race_targets = [\n",
    "    u.targets['weat3_target'],\n",
    "    u.targets['weat4_target'],\n",
    "]\n",
    "\n",
    "race_all_attributes = [u.attributes['race_weat_3_4_attr'], \n",
    "                  u.attributes['race_weat_3_4_attr']]\n",
    "\n",
    "\n",
    "u.Mode.set_mode(1)\n",
    "\n",
    "datasets_race = u.create_datasets(race_df, \n",
    "                                   [model],\n",
    "                                   tasks=race_tasks,\n",
    "                                   all_targets= race_targets,\n",
    "                                   all_attributes=race_all_attributes, \n",
    "                                   instruction_column='base_instruction',\n",
    "                                   force_order=True)"
   ]
  },
  {
   "cell_type": "code",
   "execution_count": null,
   "id": "75cce3c4",
   "metadata": {
    "scrolled": true
   },
   "outputs": [],
   "source": [
    "pd.set_option(\"display.max_columns\", None)\n",
    "pd.set_option(\"display.max_colwidth\", None)\n",
    "scores_race, count_given_test = u.Evaluator.compute(datasets_race, [model])"
   ]
  },
  {
   "cell_type": "code",
   "execution_count": null,
   "id": "86a44687",
   "metadata": {},
   "outputs": [],
   "source": [
    "alpha5, alpha10 = 0.05,  0.10\n",
    "pvalues = compute_chisquare(count_given_test) \n",
    "scores_race[\"pvalue\"] = pvalues\n",
    "\n",
    "scores_race[\"pvalue < alpha5 \"] = pvalues < alpha5\n",
    "scores_race[\"pvalue < alpha10\"] = pvalues < alpha10\n",
    "\n",
    "scores_race"
   ]
  },
  {
   "cell_type": "code",
   "execution_count": null,
   "id": "451ab00d",
   "metadata": {},
   "outputs": [],
   "source": [
    "scores_race.to_csv(f'{output_dir}/P-AT-race_{model}.csv')"
   ]
  },
  {
   "cell_type": "markdown",
   "id": "7046539c",
   "metadata": {},
   "source": [
    "## Age"
   ]
  },
  {
   "cell_type": "code",
   "execution_count": null,
   "id": "0153e084",
   "metadata": {},
   "outputs": [],
   "source": [
    "age_tasks = ['weat10']\n",
    "\n",
    "age_targets = [\n",
    "    u.targets['weat10_target'],\n",
    "]\n",
    "\n",
    "age_all_attributes = [u.attributes['age_weat_10_attr']]\n",
    "\n",
    "\n",
    "u.Mode.set_mode(10)\n",
    "\n",
    "datasets_age = u.create_datasets(age_df, \n",
    "                                   [model],\n",
    "                                   tasks=age_tasks,\n",
    "                                   all_targets=age_targets,\n",
    "                                   all_attributes=age_all_attributes, \n",
    "                                   instruction_column='base_instruction',\n",
    "                                   force_order=True)"
   ]
  },
  {
   "cell_type": "code",
   "execution_count": null,
   "id": "ff2156b5",
   "metadata": {
    "scrolled": true
   },
   "outputs": [],
   "source": [
    "pd.set_option(\"display.max_columns\", None)\n",
    "pd.set_option(\"display.max_colwidth\", None)\n",
    "scores_age, count_given_test = u.Evaluator.compute(datasets_age, [model])"
   ]
  },
  {
   "cell_type": "code",
   "execution_count": null,
   "id": "8db6c6a3",
   "metadata": {},
   "outputs": [],
   "source": [
    "scores_age"
   ]
  },
  {
   "cell_type": "code",
   "execution_count": null,
   "id": "f2cfe2a2",
   "metadata": {
    "scrolled": false
   },
   "outputs": [],
   "source": [
    "alpha5, alpha10 = 0.05,  0.10\n",
    "pvalues = compute_chisquare(count_given_test) \n",
    "scores_age[\"pvalue\"] = pvalues\n",
    "\n",
    "\n",
    "scores_age[\"pvalue < alpha5 \"] = pvalues < alpha5\n",
    "scores_age[\"pvalue < alpha10\"] = pvalues < alpha10\n",
    "\n",
    "scores_age"
   ]
  },
  {
   "cell_type": "code",
   "execution_count": null,
   "id": "c2256429",
   "metadata": {},
   "outputs": [],
   "source": [
    "scores_age.to_csv(f'{output_dir}/P-AT-age_{model}.csv')"
   ]
  }
 ],
 "metadata": {
  "kernelspec": {
   "display_name": "Python 3 (ipykernel)",
   "language": "python",
   "name": "python3"
  },
  "language_info": {
   "codemirror_mode": {
    "name": "ipython",
    "version": 3
   },
   "file_extension": ".py",
   "mimetype": "text/x-python",
   "name": "python",
   "nbconvert_exporter": "python",
   "pygments_lexer": "ipython3",
   "version": "3.8.10"
  }
 },
 "nbformat": 4,
 "nbformat_minor": 5
}
